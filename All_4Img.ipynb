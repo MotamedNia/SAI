{
 "cells": [
  {
   "cell_type": "markdown",
   "metadata": {},
   "source": [
    "Import essential libraries"
   ]
  },
  {
   "cell_type": "code",
   "execution_count": 13,
   "metadata": {},
   "outputs": [],
   "source": [
    "from SAI_Fast import SAI\n",
    "import numpy as np\n",
    "# import gnumpy as gpu\n",
    "import itertools\n",
    "import cv2\n",
    "from QACompare import QACompare\n",
    "from multiprocessing import Pool\n",
    "from multiprocessing import cpu_count\n",
    "import os\n",
    "from matplotlib import pyplot as plt"
   ]
  },
  {
   "cell_type": "markdown",
   "metadata": {},
   "source": [
    "initialize some global variables"
   ]
  },
  {
   "cell_type": "code",
   "execution_count": 2,
   "metadata": {},
   "outputs": [],
   "source": [
    "region_corners = []\n",
    "cd1_corners = np.array([[238, 268], [355, 268], [355, 378], [237, 374]], dtype=\"float32\")\n",
    "cd2_corners = np.array([[453, 273], [571, 270], [575, 381], [456, 377]], dtype=\"float32\")\n",
    "\n",
    "region_corners.append(cd1_corners)\n",
    "region_corners.append(cd2_corners)\n",
    "\n",
    "ref_image = cv2.imread(\"ref.png\")\n",
    "\n",
    "shifted_images = []\n",
    "shifted_masks = []\n",
    "for i in range(1,106):\n",
    "    img_path = os.path.join(\"shift/images\", str(i)+\".png\")\n",
    "    mask_path = os.path.join(\"shift/masks\", str(i) + \".png\")\n",
    "    shifted_images.append(cv2.imread(img_path))\n",
    "    shifted_masks.append(cv2.imread(mask_path))\n"
   ]
  },
  {
   "cell_type": "code",
   "execution_count": 3,
   "metadata": {},
   "outputs": [],
   "source": [
    "# plt.imshow(shifted_masks[0])\n",
    "# plt.title(\"gray\")\n",
    "# plt.show()"
   ]
  },
  {
   "cell_type": "markdown",
   "metadata": {},
   "source": [
    "Required methods"
   ]
  },
  {
   "cell_type": "code",
   "execution_count": 7,
   "metadata": {},
   "outputs": [],
   "source": [
    "def findsubsets(s, n):\n",
    "    return list(itertools.combinations(s, n))\n",
    "\n",
    "\n",
    "def QAS(indexes):\n",
    "    if indexes[0] %10 == 0:\n",
    "        print(indexes)\n",
    "    index_images = []\n",
    "    index_masks = []\n",
    "    for i in indexes:\n",
    "        index_images.append(shifted_images[i-1])\n",
    "        index_masks.append(shifted_masks[i-1])\n",
    "    sai = SAI(ref_image)\n",
    "    # sai = SAI(\"warped\", (11, 3), 7.5, 6.5,indexes, location_specialization_method=loc_spec)\n",
    "    sai_image = sai.compute_SAI(index_images, index_masks)\n",
    "\n",
    "    psnr, ssim = QACompare.compare_fullReference(sai_image, ref_image, region_corners)\n",
    "\n",
    "    nonZeroPix = QACompare.get_mask_covering(indexes, \"shift/masks\", region_corners)\n",
    "\n",
    "    return indexes, (psnr, ssim), nonZeroPix\n"
   ]
  },
  {
   "cell_type": "markdown",
   "metadata": {},
   "source": [
    "Compute subsets"
   ]
  },
  {
   "cell_type": "code",
   "execution_count": 8,
   "metadata": {},
   "outputs": [
    {
     "name": "stdout",
     "output_type": "stream",
     "text": [
      "5460\n"
     ]
    }
   ],
   "source": [
    "s = []\n",
    "for i in range(1, 106):\n",
    "    s.append(i)\n",
    "n = 4\n",
    "\n",
    "indexes_list = findsubsets(s, n)\n",
    "print(len(indexes_list))\n"
   ]
  },
  {
   "cell_type": "code",
   "execution_count": 14,
   "metadata": {},
   "outputs": [
    {
     "data": {
      "text/plain": [
       "4"
      ]
     },
     "execution_count": 14,
     "metadata": {},
     "output_type": "execute_result"
    }
   ],
   "source": [
    "cpu_count()"
   ]
  },
  {
   "cell_type": "markdown",
   "metadata": {},
   "source": [
    "Compute sai for all 4 images"
   ]
  },
  {
   "cell_type": "code",
   "execution_count": 9,
   "metadata": {},
   "outputs": [
    {
     "name": "stderr",
     "output_type": "stream",
     "text": [
      "/home/hossein/DevelopingSpace/alive/CameraArray/Implementation/SAI/SAI_Fast.py:74: RuntimeWarning: invalid value encountered in true_divide\n",
      "  float_final_image = np.divide(self.image, self.mask)\n"
     ]
    },
    {
     "name": "stdout",
     "output_type": "stream",
     "text": [
      "(10, 91)\n"
     ]
    },
    {
     "name": "stderr",
     "output_type": "stream",
     "text": [
      "/home/hossein/DevelopingSpace/alive/CameraArray/Implementation/SAI/SAI_Fast.py:74: RuntimeWarning: invalid value encountered in true_divide\n",
      "  float_final_image = np.divide(self.image, self.mask)\n",
      "/home/hossein/DevelopingSpace/alive/CameraArray/Implementation/SAI/SAI_Fast.py:74: RuntimeWarning: invalid value encountered in true_divide\n",
      "  float_final_image = np.divide(self.image, self.mask)\n",
      "/home/hossein/DevelopingSpace/alive/CameraArray/Implementation/SAI/SAI_Fast.py:74: RuntimeWarning: invalid value encountered in true_divide\n",
      "  float_final_image = np.divide(self.image, self.mask)\n",
      "/home/hossein/DevelopingSpace/alive/CameraArray/Implementation/SAI/SAI_Fast.py:74: RuntimeWarning: invalid value encountered in true_divide\n",
      "  float_final_image = np.divide(self.image, self.mask)\n",
      "/home/hossein/DevelopingSpace/alive/CameraArray/Implementation/SAI/SAI_Fast.py:74: RuntimeWarning: invalid value encountered in true_divide\n",
      "  float_final_image = np.divide(self.image, self.mask)\n",
      "/home/hossein/DevelopingSpace/alive/CameraArray/Implementation/SAI/SAI_Fast.py:74: RuntimeWarning: invalid value encountered in true_divide\n",
      "  float_final_image = np.divide(self.image, self.mask)\n",
      "/home/hossein/DevelopingSpace/alive/CameraArray/Implementation/SAI/SAI_Fast.py:74: RuntimeWarning: invalid value encountered in true_divide\n",
      "  float_final_image = np.divide(self.image, self.mask)\n",
      "/home/hossein/DevelopingSpace/alive/CameraArray/Implementation/SAI/SAI_Fast.py:74: RuntimeWarning: invalid value encountered in true_divide\n",
      "  float_final_image = np.divide(self.image, self.mask)\n",
      "/home/hossein/DevelopingSpace/alive/CameraArray/Implementation/SAI/SAI_Fast.py:74: RuntimeWarning: invalid value encountered in true_divide\n",
      "  float_final_image = np.divide(self.image, self.mask)\n",
      "/home/hossein/DevelopingSpace/alive/CameraArray/Implementation/SAI/SAI_Fast.py:74: RuntimeWarning: invalid value encountered in true_divide\n",
      "  float_final_image = np.divide(self.image, self.mask)\n",
      "/home/hossein/DevelopingSpace/alive/CameraArray/Implementation/SAI/SAI_Fast.py:74: RuntimeWarning: invalid value encountered in true_divide\n",
      "  float_final_image = np.divide(self.image, self.mask)\n",
      "/home/hossein/DevelopingSpace/alive/CameraArray/Implementation/SAI/SAI_Fast.py:74: RuntimeWarning: invalid value encountered in true_divide\n",
      "  float_final_image = np.divide(self.image, self.mask)\n",
      "/home/hossein/DevelopingSpace/alive/CameraArray/Implementation/SAI/SAI_Fast.py:74: RuntimeWarning: invalid value encountered in true_divide\n",
      "  float_final_image = np.divide(self.image, self.mask)\n"
     ]
    },
    {
     "name": "stdout",
     "output_type": "stream",
     "text": [
      "(10, 92)\n",
      "(10, 93)\n",
      "(10, 94)\n",
      "(10, 95)\n",
      "(10, 96)\n",
      "(10, 97)\n",
      "(10, 98)\n",
      "(10, 99)\n",
      "(10, 100)\n",
      "(10, 101)\n",
      "(10, 102)\n",
      "(10, 103)\n",
      "(10, 104)\n",
      "(10, 105)\n",
      "(10, 11)\n",
      "(10, 12)\n",
      "(10, 13)\n",
      "(10, 14)\n",
      "(10, 15)\n",
      "(10, 16)\n",
      "(10, 17)\n"
     ]
    },
    {
     "name": "stderr",
     "output_type": "stream",
     "text": [
      "Process ForkPoolWorker-18:\n",
      "Process ForkPoolWorker-20:\n",
      "Process ForkPoolWorker-15:\n",
      "Process ForkPoolWorker-25:\n",
      "Traceback (most recent call last):\n",
      "Traceback (most recent call last):\n",
      "Process ForkPoolWorker-27:\n",
      "Process ForkPoolWorker-22:\n",
      "Process ForkPoolWorker-19:\n",
      "Process ForkPoolWorker-16:\n",
      "Process ForkPoolWorker-23:\n"
     ]
    },
    {
     "ename": "KeyboardInterrupt",
     "evalue": "",
     "output_type": "error",
     "traceback": [
      "\u001b[0;31m---------------------------------------------------------------------------\u001b[0m",
      "\u001b[0;31mKeyboardInterrupt\u001b[0m                         Traceback (most recent call last)",
      "\u001b[0;32m<ipython-input-9-0a9cc933ac3b>\u001b[0m in \u001b[0;36m<module>\u001b[0;34m\u001b[0m\n\u001b[1;32m      1\u001b[0m \u001b[0mpool\u001b[0m \u001b[0;34m=\u001b[0m \u001b[0mPool\u001b[0m\u001b[0;34m(\u001b[0m\u001b[0mprocesses\u001b[0m\u001b[0;34m=\u001b[0m\u001b[0;36m14\u001b[0m\u001b[0;34m)\u001b[0m\u001b[0;34m\u001b[0m\u001b[0m\n\u001b[0;32m----> 2\u001b[0;31m \u001b[0mresults\u001b[0m \u001b[0;34m=\u001b[0m \u001b[0mpool\u001b[0m\u001b[0;34m.\u001b[0m\u001b[0mmap\u001b[0m\u001b[0;34m(\u001b[0m\u001b[0mQAS\u001b[0m\u001b[0;34m,\u001b[0m \u001b[0mindexes_list\u001b[0m\u001b[0;34m)\u001b[0m\u001b[0;34m\u001b[0m\u001b[0m\n\u001b[0m\u001b[1;32m      3\u001b[0m \u001b[0;34m\u001b[0m\u001b[0m\n\u001b[1;32m      4\u001b[0m \u001b[0mprint\u001b[0m\u001b[0;34m(\u001b[0m\u001b[0mresults\u001b[0m\u001b[0;34m)\u001b[0m\u001b[0;34m\u001b[0m\u001b[0m\n",
      "\u001b[0;32m/usr/lib/python3.5/multiprocessing/pool.py\u001b[0m in \u001b[0;36mmap\u001b[0;34m(self, func, iterable, chunksize)\u001b[0m\n\u001b[1;32m    258\u001b[0m         \u001b[0;32min\u001b[0m \u001b[0ma\u001b[0m \u001b[0mlist\u001b[0m \u001b[0mthat\u001b[0m \u001b[0;32mis\u001b[0m \u001b[0mreturned\u001b[0m\u001b[0;34m.\u001b[0m\u001b[0;34m\u001b[0m\u001b[0m\n\u001b[1;32m    259\u001b[0m         '''\n\u001b[0;32m--> 260\u001b[0;31m         \u001b[0;32mreturn\u001b[0m \u001b[0mself\u001b[0m\u001b[0;34m.\u001b[0m\u001b[0m_map_async\u001b[0m\u001b[0;34m(\u001b[0m\u001b[0mfunc\u001b[0m\u001b[0;34m,\u001b[0m \u001b[0miterable\u001b[0m\u001b[0;34m,\u001b[0m \u001b[0mmapstar\u001b[0m\u001b[0;34m,\u001b[0m \u001b[0mchunksize\u001b[0m\u001b[0;34m)\u001b[0m\u001b[0;34m.\u001b[0m\u001b[0mget\u001b[0m\u001b[0;34m(\u001b[0m\u001b[0;34m)\u001b[0m\u001b[0;34m\u001b[0m\u001b[0m\n\u001b[0m\u001b[1;32m    261\u001b[0m \u001b[0;34m\u001b[0m\u001b[0m\n\u001b[1;32m    262\u001b[0m     \u001b[0;32mdef\u001b[0m \u001b[0mstarmap\u001b[0m\u001b[0;34m(\u001b[0m\u001b[0mself\u001b[0m\u001b[0;34m,\u001b[0m \u001b[0mfunc\u001b[0m\u001b[0;34m,\u001b[0m \u001b[0miterable\u001b[0m\u001b[0;34m,\u001b[0m \u001b[0mchunksize\u001b[0m\u001b[0;34m=\u001b[0m\u001b[0;32mNone\u001b[0m\u001b[0;34m)\u001b[0m\u001b[0;34m:\u001b[0m\u001b[0;34m\u001b[0m\u001b[0m\n",
      "\u001b[0;32m/usr/lib/python3.5/multiprocessing/pool.py\u001b[0m in \u001b[0;36mget\u001b[0;34m(self, timeout)\u001b[0m\n\u001b[1;32m    600\u001b[0m \u001b[0;34m\u001b[0m\u001b[0m\n\u001b[1;32m    601\u001b[0m     \u001b[0;32mdef\u001b[0m \u001b[0mget\u001b[0m\u001b[0;34m(\u001b[0m\u001b[0mself\u001b[0m\u001b[0;34m,\u001b[0m \u001b[0mtimeout\u001b[0m\u001b[0;34m=\u001b[0m\u001b[0;32mNone\u001b[0m\u001b[0;34m)\u001b[0m\u001b[0;34m:\u001b[0m\u001b[0;34m\u001b[0m\u001b[0m\n\u001b[0;32m--> 602\u001b[0;31m         \u001b[0mself\u001b[0m\u001b[0;34m.\u001b[0m\u001b[0mwait\u001b[0m\u001b[0;34m(\u001b[0m\u001b[0mtimeout\u001b[0m\u001b[0;34m)\u001b[0m\u001b[0;34m\u001b[0m\u001b[0m\n\u001b[0m\u001b[1;32m    603\u001b[0m         \u001b[0;32mif\u001b[0m \u001b[0;32mnot\u001b[0m \u001b[0mself\u001b[0m\u001b[0;34m.\u001b[0m\u001b[0mready\u001b[0m\u001b[0;34m(\u001b[0m\u001b[0;34m)\u001b[0m\u001b[0;34m:\u001b[0m\u001b[0;34m\u001b[0m\u001b[0m\n\u001b[1;32m    604\u001b[0m             \u001b[0;32mraise\u001b[0m \u001b[0mTimeoutError\u001b[0m\u001b[0;34m\u001b[0m\u001b[0m\n",
      "\u001b[0;32m/usr/lib/python3.5/multiprocessing/pool.py\u001b[0m in \u001b[0;36mwait\u001b[0;34m(self, timeout)\u001b[0m\n\u001b[1;32m    597\u001b[0m \u001b[0;34m\u001b[0m\u001b[0m\n\u001b[1;32m    598\u001b[0m     \u001b[0;32mdef\u001b[0m \u001b[0mwait\u001b[0m\u001b[0;34m(\u001b[0m\u001b[0mself\u001b[0m\u001b[0;34m,\u001b[0m \u001b[0mtimeout\u001b[0m\u001b[0;34m=\u001b[0m\u001b[0;32mNone\u001b[0m\u001b[0;34m)\u001b[0m\u001b[0;34m:\u001b[0m\u001b[0;34m\u001b[0m\u001b[0m\n\u001b[0;32m--> 599\u001b[0;31m         \u001b[0mself\u001b[0m\u001b[0;34m.\u001b[0m\u001b[0m_event\u001b[0m\u001b[0;34m.\u001b[0m\u001b[0mwait\u001b[0m\u001b[0;34m(\u001b[0m\u001b[0mtimeout\u001b[0m\u001b[0;34m)\u001b[0m\u001b[0;34m\u001b[0m\u001b[0m\n\u001b[0m\u001b[1;32m    600\u001b[0m \u001b[0;34m\u001b[0m\u001b[0m\n\u001b[1;32m    601\u001b[0m     \u001b[0;32mdef\u001b[0m \u001b[0mget\u001b[0m\u001b[0;34m(\u001b[0m\u001b[0mself\u001b[0m\u001b[0;34m,\u001b[0m \u001b[0mtimeout\u001b[0m\u001b[0;34m=\u001b[0m\u001b[0;32mNone\u001b[0m\u001b[0;34m)\u001b[0m\u001b[0;34m:\u001b[0m\u001b[0;34m\u001b[0m\u001b[0m\n",
      "\u001b[0;32m/usr/lib/python3.5/threading.py\u001b[0m in \u001b[0;36mwait\u001b[0;34m(self, timeout)\u001b[0m\n\u001b[1;32m    547\u001b[0m             \u001b[0msignaled\u001b[0m \u001b[0;34m=\u001b[0m \u001b[0mself\u001b[0m\u001b[0;34m.\u001b[0m\u001b[0m_flag\u001b[0m\u001b[0;34m\u001b[0m\u001b[0m\n\u001b[1;32m    548\u001b[0m             \u001b[0;32mif\u001b[0m \u001b[0;32mnot\u001b[0m \u001b[0msignaled\u001b[0m\u001b[0;34m:\u001b[0m\u001b[0;34m\u001b[0m\u001b[0m\n\u001b[0;32m--> 549\u001b[0;31m                 \u001b[0msignaled\u001b[0m \u001b[0;34m=\u001b[0m \u001b[0mself\u001b[0m\u001b[0;34m.\u001b[0m\u001b[0m_cond\u001b[0m\u001b[0;34m.\u001b[0m\u001b[0mwait\u001b[0m\u001b[0;34m(\u001b[0m\u001b[0mtimeout\u001b[0m\u001b[0;34m)\u001b[0m\u001b[0;34m\u001b[0m\u001b[0m\n\u001b[0m\u001b[1;32m    550\u001b[0m             \u001b[0;32mreturn\u001b[0m \u001b[0msignaled\u001b[0m\u001b[0;34m\u001b[0m\u001b[0m\n\u001b[1;32m    551\u001b[0m \u001b[0;34m\u001b[0m\u001b[0m\n",
      "\u001b[0;32m/usr/lib/python3.5/threading.py\u001b[0m in \u001b[0;36mwait\u001b[0;34m(self, timeout)\u001b[0m\n\u001b[1;32m    291\u001b[0m         \u001b[0;32mtry\u001b[0m\u001b[0;34m:\u001b[0m    \u001b[0;31m# restore state no matter what (e.g., KeyboardInterrupt)\u001b[0m\u001b[0;34m\u001b[0m\u001b[0m\n\u001b[1;32m    292\u001b[0m             \u001b[0;32mif\u001b[0m \u001b[0mtimeout\u001b[0m \u001b[0;32mis\u001b[0m \u001b[0;32mNone\u001b[0m\u001b[0;34m:\u001b[0m\u001b[0;34m\u001b[0m\u001b[0m\n\u001b[0;32m--> 293\u001b[0;31m                 \u001b[0mwaiter\u001b[0m\u001b[0;34m.\u001b[0m\u001b[0macquire\u001b[0m\u001b[0;34m(\u001b[0m\u001b[0;34m)\u001b[0m\u001b[0;34m\u001b[0m\u001b[0m\n\u001b[0m\u001b[1;32m    294\u001b[0m                 \u001b[0mgotit\u001b[0m \u001b[0;34m=\u001b[0m \u001b[0;32mTrue\u001b[0m\u001b[0;34m\u001b[0m\u001b[0m\n\u001b[1;32m    295\u001b[0m             \u001b[0;32melse\u001b[0m\u001b[0;34m:\u001b[0m\u001b[0;34m\u001b[0m\u001b[0m\n",
      "\u001b[0;31mKeyboardInterrupt\u001b[0m: "
     ]
    },
    {
     "name": "stderr",
     "output_type": "stream",
     "text": [
      "  File \"/usr/lib/python3.5/multiprocessing/process.py\", line 249, in _bootstrap\n",
      "    self.run()\n",
      "Traceback (most recent call last):\n",
      "Process ForkPoolWorker-21:\n",
      "Process ForkPoolWorker-26:\n",
      "Traceback (most recent call last):\n",
      "  File \"/usr/lib/python3.5/multiprocessing/process.py\", line 93, in run\n",
      "    self._target(*self._args, **self._kwargs)\n",
      "  File \"/usr/lib/python3.5/multiprocessing/process.py\", line 249, in _bootstrap\n",
      "    self.run()\n",
      "Process ForkPoolWorker-28:\n",
      "Process ForkPoolWorker-17:\n",
      "Process ForkPoolWorker-24:\n",
      "Traceback (most recent call last):\n",
      "Traceback (most recent call last):\n",
      "Traceback (most recent call last):\n",
      "  File \"/usr/lib/python3.5/multiprocessing/process.py\", line 249, in _bootstrap\n",
      "    self.run()\n",
      "Traceback (most recent call last):\n",
      "  File \"/usr/lib/python3.5/multiprocessing/pool.py\", line 119, in worker\n",
      "    result = (True, func(*args, **kwds))\n",
      "Traceback (most recent call last):\n",
      "Traceback (most recent call last):\n",
      "  File \"/usr/lib/python3.5/multiprocessing/process.py\", line 249, in _bootstrap\n",
      "    self.run()\n",
      "  File \"/usr/lib/python3.5/multiprocessing/process.py\", line 93, in run\n",
      "    self._target(*self._args, **self._kwargs)\n",
      "  File \"/usr/lib/python3.5/multiprocessing/process.py\", line 249, in _bootstrap\n",
      "    self.run()\n",
      "  File \"/usr/lib/python3.5/multiprocessing/process.py\", line 249, in _bootstrap\n",
      "    self.run()\n",
      "Traceback (most recent call last):\n",
      "Traceback (most recent call last):\n",
      "Traceback (most recent call last):\n",
      "  File \"/usr/lib/python3.5/multiprocessing/pool.py\", line 44, in mapstar\n",
      "    return list(map(*args))\n",
      "  File \"/usr/lib/python3.5/multiprocessing/process.py\", line 249, in _bootstrap\n",
      "    self.run()\n",
      "  File \"/home/hossein/.virtualenvs/cv/lib/python3.5/site-packages/numpy/core/numerictypes.py\", line 328, in issubclass_\n",
      "    return issubclass(arg1, arg2)\n",
      "  File \"/usr/lib/python3.5/multiprocessing/process.py\", line 249, in _bootstrap\n",
      "    self.run()\n",
      "Traceback (most recent call last):\n",
      "  File \"/usr/lib/python3.5/multiprocessing/process.py\", line 93, in run\n",
      "    self._target(*self._args, **self._kwargs)\n",
      "  File \"/usr/lib/python3.5/multiprocessing/process.py\", line 249, in _bootstrap\n",
      "    self.run()\n",
      "  File \"/usr/lib/python3.5/multiprocessing/pool.py\", line 119, in worker\n",
      "    result = (True, func(*args, **kwds))\n",
      "  File \"/usr/lib/python3.5/multiprocessing/process.py\", line 93, in run\n",
      "    self._target(*self._args, **self._kwargs)\n",
      "  File \"/usr/lib/python3.5/multiprocessing/process.py\", line 93, in run\n",
      "    self._target(*self._args, **self._kwargs)\n",
      "  File \"/usr/lib/python3.5/multiprocessing/process.py\", line 249, in _bootstrap\n",
      "    self.run()\n",
      "  File \"/usr/lib/python3.5/multiprocessing/pool.py\", line 119, in worker\n",
      "    result = (True, func(*args, **kwds))\n",
      "  File \"/usr/lib/python3.5/multiprocessing/process.py\", line 249, in _bootstrap\n",
      "    self.run()\n",
      "  File \"/usr/lib/python3.5/multiprocessing/process.py\", line 93, in run\n",
      "    self._target(*self._args, **self._kwargs)\n",
      "  File \"<ipython-input-7-f27a5c61d49e>\", line 15, in QAS\n",
      "    sai_image = sai.compute_SAI(index_images, index_masks)\n",
      "  File \"/usr/lib/python3.5/multiprocessing/process.py\", line 93, in run\n",
      "    self._target(*self._args, **self._kwargs)\n",
      "  File \"/usr/lib/python3.5/multiprocessing/process.py\", line 93, in run\n",
      "    self._target(*self._args, **self._kwargs)\n",
      "TypeError: issubclass() arg 1 must be a class\n",
      "  File \"/usr/lib/python3.5/multiprocessing/pool.py\", line 119, in worker\n",
      "    result = (True, func(*args, **kwds))\n",
      "  File \"/usr/lib/python3.5/multiprocessing/process.py\", line 93, in run\n",
      "    self._target(*self._args, **self._kwargs)\n",
      "  File \"/usr/lib/python3.5/multiprocessing/process.py\", line 93, in run\n",
      "    self._target(*self._args, **self._kwargs)\n",
      "  File \"/usr/lib/python3.5/multiprocessing/pool.py\", line 119, in worker\n",
      "    result = (True, func(*args, **kwds))\n",
      "\n",
      "During handling of the above exception, another exception occurred:\n",
      "\n",
      "  File \"/usr/lib/python3.5/multiprocessing/process.py\", line 249, in _bootstrap\n",
      "    self.run()\n",
      "  File \"/usr/lib/python3.5/multiprocessing/process.py\", line 249, in _bootstrap\n",
      "    self.run()\n",
      "  File \"/usr/lib/python3.5/multiprocessing/pool.py\", line 44, in mapstar\n",
      "    return list(map(*args))\n",
      "  File \"/usr/lib/python3.5/multiprocessing/pool.py\", line 119, in worker\n",
      "    result = (True, func(*args, **kwds))\n",
      "  File \"/usr/lib/python3.5/multiprocessing/process.py\", line 93, in run\n",
      "    self._target(*self._args, **self._kwargs)\n",
      "  File \"/usr/lib/python3.5/multiprocessing/pool.py\", line 44, in mapstar\n",
      "    return list(map(*args))\n",
      "  File \"/home/hossein/DevelopingSpace/alive/CameraArray/Implementation/SAI/SAI_Fast.py\", line 70, in compute_SAI\n",
      "    self.mask += current_mask\n",
      "  File \"/usr/lib/python3.5/multiprocessing/pool.py\", line 119, in worker\n",
      "    result = (True, func(*args, **kwds))\n",
      "Traceback (most recent call last):\n",
      "  File \"/usr/lib/python3.5/multiprocessing/pool.py\", line 119, in worker\n",
      "    result = (True, func(*args, **kwds))\n",
      "  File \"/usr/lib/python3.5/multiprocessing/pool.py\", line 44, in mapstar\n",
      "    return list(map(*args))\n",
      "  File \"/usr/lib/python3.5/multiprocessing/pool.py\", line 44, in mapstar\n",
      "    return list(map(*args))\n",
      "  File \"/usr/lib/python3.5/multiprocessing/process.py\", line 93, in run\n",
      "    self._target(*self._args, **self._kwargs)\n",
      "  File \"<ipython-input-7-f27a5c61d49e>\", line 19, in QAS\n",
      "    nonZeroPix = QACompare.get_mask_covering(indexes, \"shift/masks\", region_corners)\n",
      "  File \"<ipython-input-7-f27a5c61d49e>\", line 15, in QAS\n",
      "    sai_image = sai.compute_SAI(index_images, index_masks)\n",
      "  File \"/usr/lib/python3.5/multiprocessing/pool.py\", line 44, in mapstar\n",
      "    return list(map(*args))\n",
      "  File \"/usr/lib/python3.5/multiprocessing/pool.py\", line 44, in mapstar\n",
      "    return list(map(*args))\n",
      "  File \"/usr/lib/python3.5/multiprocessing/process.py\", line 93, in run\n",
      "    self._target(*self._args, **self._kwargs)\n",
      "  File \"/usr/lib/python3.5/multiprocessing/pool.py\", line 44, in mapstar\n",
      "    return list(map(*args))\n",
      "KeyboardInterrupt\n",
      "  File \"/usr/lib/python3.5/multiprocessing/process.py\", line 249, in _bootstrap\n",
      "    self.run()\n",
      "  File \"/usr/lib/python3.5/multiprocessing/pool.py\", line 119, in worker\n",
      "    result = (True, func(*args, **kwds))\n",
      "  File \"/home/hossein/DevelopingSpace/alive/CameraArray/Implementation/SAI/QACompare.py\", line 41, in get_mask_covering\n",
      "    tmp_img = cv2.imread(tmp_path)\n",
      "  File \"/home/hossein/DevelopingSpace/alive/CameraArray/Implementation/SAI/SAI_Fast.py\", line 67, in compute_SAI\n",
      "    current_mask = np.array(current_mask / 255, np.uint16)\n",
      "  File \"/usr/lib/python3.5/multiprocessing/pool.py\", line 119, in worker\n",
      "    result = (True, func(*args, **kwds))\n",
      "  File \"<ipython-input-7-f27a5c61d49e>\", line 15, in QAS\n",
      "    sai_image = sai.compute_SAI(index_images, index_masks)\n",
      "  File \"/usr/lib/python3.5/multiprocessing/pool.py\", line 119, in worker\n",
      "    result = (True, func(*args, **kwds))\n",
      "  File \"<ipython-input-7-f27a5c61d49e>\", line 17, in QAS\n",
      "    psnr, ssim = QACompare.compare_fullReference(sai_image, ref_image, region_corners)\n",
      "  File \"<ipython-input-7-f27a5c61d49e>\", line 19, in QAS\n",
      "    nonZeroPix = QACompare.get_mask_covering(indexes, \"shift/masks\", region_corners)\n",
      "  File \"/usr/lib/python3.5/multiprocessing/process.py\", line 93, in run\n",
      "    self._target(*self._args, **self._kwargs)\n",
      "KeyboardInterrupt\n",
      "  File \"/usr/lib/python3.5/multiprocessing/pool.py\", line 119, in worker\n",
      "    result = (True, func(*args, **kwds))\n",
      "  File \"<ipython-input-7-f27a5c61d49e>\", line 19, in QAS\n",
      "    nonZeroPix = QACompare.get_mask_covering(indexes, \"shift/masks\", region_corners)\n",
      "  File \"/usr/lib/python3.5/multiprocessing/pool.py\", line 44, in mapstar\n",
      "    return list(map(*args))\n",
      "  File \"/home/hossein/DevelopingSpace/alive/CameraArray/Implementation/SAI/SAI_Fast.py\", line 67, in compute_SAI\n",
      "    current_mask = np.array(current_mask / 255, np.uint16)\n",
      "  File \"<ipython-input-7-f27a5c61d49e>\", line 19, in QAS\n",
      "    nonZeroPix = QACompare.get_mask_covering(indexes, \"shift/masks\", region_corners)\n",
      "  File \"/usr/lib/python3.5/multiprocessing/pool.py\", line 119, in worker\n",
      "    result = (True, func(*args, **kwds))\n",
      "  File \"/usr/lib/python3.5/multiprocessing/pool.py\", line 119, in worker\n",
      "    result = (True, func(*args, **kwds))\n",
      "  File \"/usr/lib/python3.5/multiprocessing/pool.py\", line 44, in mapstar\n",
      "    return list(map(*args))\n",
      "  File \"/home/hossein/DevelopingSpace/alive/CameraArray/Implementation/SAI/QACompare.py\", line 47, in get_mask_covering\n",
      "    mask_img = cv2.imread(mask_path)\n"
     ]
    },
    {
     "name": "stderr",
     "output_type": "stream",
     "text": [
      "  File \"<ipython-input-7-f27a5c61d49e>\", line 15, in QAS\n",
      "    sai_image = sai.compute_SAI(index_images, index_masks)\n",
      "  File \"/home/hossein/DevelopingSpace/alive/CameraArray/Implementation/SAI/QACompare.py\", line 30, in compare_fullReference\n",
      "    ssim = compare_ssim(refImg_patch, img_patch)\n",
      "  File \"/usr/lib/python3.5/multiprocessing/pool.py\", line 44, in mapstar\n",
      "    return list(map(*args))\n",
      "KeyboardInterrupt\n",
      "  File \"/usr/lib/python3.5/multiprocessing/pool.py\", line 44, in mapstar\n",
      "    return list(map(*args))\n",
      "  File \"/home/hossein/.virtualenvs/cv/lib/python3.5/site-packages/skimage/measure/_structural_similarity.py\", line 188, in compare_ssim\n",
      "    uxy = filter_func(X * Y, **filter_args)\n",
      "  File \"<ipython-input-7-f27a5c61d49e>\", line 15, in QAS\n",
      "    sai_image = sai.compute_SAI(index_images, index_masks)\n",
      "  File \"/home/hossein/DevelopingSpace/alive/CameraArray/Implementation/SAI/QACompare.py\", line 41, in get_mask_covering\n",
      "    tmp_img = cv2.imread(tmp_path)\n",
      "  File \"<ipython-input-7-f27a5c61d49e>\", line 17, in QAS\n",
      "    psnr, ssim = QACompare.compare_fullReference(sai_image, ref_image, region_corners)\n",
      "KeyboardInterrupt\n",
      "  File \"/usr/lib/python3.5/multiprocessing/pool.py\", line 44, in mapstar\n",
      "    return list(map(*args))\n",
      "  File \"/home/hossein/DevelopingSpace/alive/CameraArray/Implementation/SAI/SAI_Fast.py\", line 67, in compute_SAI\n",
      "    current_mask = np.array(current_mask / 255, np.uint16)\n",
      "  File \"/usr/lib/python3.5/multiprocessing/pool.py\", line 44, in mapstar\n",
      "    return list(map(*args))\n",
      "  File \"<ipython-input-7-f27a5c61d49e>\", line 17, in QAS\n",
      "    psnr, ssim = QACompare.compare_fullReference(sai_image, ref_image, region_corners)\n",
      "  File \"/home/hossein/.virtualenvs/cv/lib/python3.5/site-packages/scipy/ndimage/filters.py\", line 827, in uniform_filter\n",
      "    output = _ni_support._get_output(output, input)\n",
      "  File \"/home/hossein/DevelopingSpace/alive/CameraArray/Implementation/SAI/SAI_Fast.py\", line 70, in compute_SAI\n",
      "    self.mask += current_mask\n",
      "KeyboardInterrupt\n",
      "KeyboardInterrupt\n",
      "  File \"/home/hossein/DevelopingSpace/alive/CameraArray/Implementation/SAI/QACompare.py\", line 29, in compare_fullReference\n",
      "    psnr += compare_psnr(refImg_patch, img_patch)\n",
      "  File \"<ipython-input-7-f27a5c61d49e>\", line 15, in QAS\n",
      "    sai_image = sai.compute_SAI(index_images, index_masks)\n",
      "  File \"/home/hossein/DevelopingSpace/alive/CameraArray/Implementation/SAI/QACompare.py\", line 30, in compare_fullReference\n",
      "    ssim = compare_ssim(refImg_patch, img_patch)\n",
      "  File \"<ipython-input-7-f27a5c61d49e>\", line 15, in QAS\n",
      "    sai_image = sai.compute_SAI(index_images, index_masks)\n",
      "  File \"/home/hossein/.virtualenvs/cv/lib/python3.5/site-packages/scipy/ndimage/_ni_support.py\", line 75, in _get_output\n",
      "    output = numpy.zeros(shape, dtype=input.dtype.name)\n",
      "  File \"/home/hossein/.virtualenvs/cv/lib/python3.5/site-packages/skimage/measure/simple_metrics.py\", line 141, in compare_psnr\n",
      "    im_true, im_test = _as_floats(im_true, im_test)\n",
      "  File \"/home/hossein/DevelopingSpace/alive/CameraArray/Implementation/SAI/SAI_Fast.py\", line 67, in compute_SAI\n",
      "    current_mask = np.array(current_mask / 255, np.uint16)\n",
      "  File \"/home/hossein/DevelopingSpace/alive/CameraArray/Implementation/SAI/SAI_Fast.py\", line 69, in compute_SAI\n",
      "    self.image += current_img\n",
      "  File \"/home/hossein/.virtualenvs/cv/lib/python3.5/site-packages/skimage/measure/_structural_similarity.py\", line 187, in compare_ssim\n",
      "    uyy = filter_func(Y * Y, **filter_args)\n",
      "  File \"/home/hossein/.virtualenvs/cv/lib/python3.5/site-packages/numpy/core/_dtype.py\", line 319, in _name_get\n",
      "    def _name_get(dtype):\n",
      "  File \"/home/hossein/DevelopingSpace/alive/CameraArray/Implementation/SAI/QACompare.py\", line 41, in get_mask_covering\n",
      "    tmp_img = cv2.imread(tmp_path)\n",
      "KeyboardInterrupt\n",
      "KeyboardInterrupt\n",
      "KeyboardInterrupt\n",
      "  File \"/home/hossein/.virtualenvs/cv/lib/python3.5/site-packages/scipy/ndimage/filters.py\", line 827, in uniform_filter\n",
      "    output = _ni_support._get_output(output, input)\n",
      "KeyboardInterrupt\n",
      "KeyboardInterrupt\n",
      "  File \"/home/hossein/.virtualenvs/cv/lib/python3.5/site-packages/scipy/ndimage/_ni_support.py\", line 75, in _get_output\n",
      "    output = numpy.zeros(shape, dtype=input.dtype.name)\n",
      "KeyboardInterrupt\n",
      "KeyboardInterrupt\n",
      "  File \"/home/hossein/.virtualenvs/cv/lib/python3.5/site-packages/numpy/core/_dtype.py\", line 334, in _name_get\n",
      "    if np.issubdtype(dtype, np.flexible) and not _isunsized(dtype):\n",
      "  File \"/home/hossein/.virtualenvs/cv/lib/python3.5/site-packages/numpy/core/numerictypes.py\", line 392, in issubdtype\n",
      "    if not issubclass_(arg1, generic):\n",
      "  File \"/home/hossein/.virtualenvs/cv/lib/python3.5/site-packages/numpy/core/numerictypes.py\", line 328, in issubclass_\n",
      "    return issubclass(arg1, arg2)\n",
      "KeyboardInterrupt\n"
     ]
    }
   ],
   "source": [
    "pool = Pool(processes=14)\n",
    "results = pool.map(QAS, indexes_list)\n",
    "\n",
    "print(results)"
   ]
  },
  {
   "cell_type": "code",
   "execution_count": null,
   "metadata": {},
   "outputs": [],
   "source": []
  }
 ],
 "metadata": {
  "kernelspec": {
   "display_name": "Python 3",
   "language": "python",
   "name": "python3"
  },
  "language_info": {
   "codemirror_mode": {
    "name": "ipython",
    "version": 3
   },
   "file_extension": ".py",
   "mimetype": "text/x-python",
   "name": "python",
   "nbconvert_exporter": "python",
   "pygments_lexer": "ipython3",
   "version": "3.5.2"
  }
 },
 "nbformat": 4,
 "nbformat_minor": 2
}
